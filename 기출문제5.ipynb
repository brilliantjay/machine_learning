{
  "nbformat": 4,
  "nbformat_minor": 0,
  "metadata": {
    "colab": {
      "provenance": []
    },
    "kernelspec": {
      "name": "python3",
      "display_name": "Python 3"
    },
    "language_info": {
      "name": "python"
    }
  },
  "cells": [
    {
      "cell_type": "code",
      "execution_count": null,
      "metadata": {
        "colab": {
          "base_uri": "https://localhost:8080/"
        },
        "id": "j8ZT_lOdxXgk",
        "outputId": "ab8f761d-5cf1-4782-b121-708891948146"
      },
      "outputs": [
        {
          "output_type": "stream",
          "name": "stdout",
          "text": [
            "119\n"
          ]
        }
      ],
      "source": [
        "#1\n",
        "\n",
        "import pandas as pd\n",
        "\n",
        "df = pd.read_csv(\"https://raw.githubusercontent.com/YoungjinBD/dataset/main/trash_bag.csv\",encoding='cp949') #encoding 명시 안하면 에러남\n",
        "df = df[(df[\"용도\"] == \"음식물쓰레기\") & (df[\"사용대상\"] == \"가정용\")]\n",
        "df = df[df[\"2L가격\"]!=0] #중요\n",
        "print(round(df[\"2L가격\"].mean()))"
      ]
    },
    {
      "cell_type": "code",
      "source": [
        "#2\n",
        "\n",
        "df = pd.read_csv(\"https://raw.githubusercontent.com/YoungjinBD/dataset/main/BMI.csv\")\n",
        "df[\"Height\"] = df[\"Height\"] / 100 # 문제에 설명이 없었음;;\n",
        "df[\"BMI\"] = df[\"Weight\"] / (df[\"Height\"]*df[\"Height\"])\n",
        "\n",
        "df[\"BMI_G\"] = pd.cut(x=df[\"BMI\"], bins=[0,18.5,23,25,30,100],labels=[\"저체중\",\"정상\",\"과체중\",\"경도비만\",\"중등도비만\"],include_lowest=True)\n",
        "diff = abs(df[df[\"BMI_G\"] == \"정상\"].count() - df[df[\"BMI_G\"] == \"과체중\"].count())\n",
        "print(diff[\"BMI_G\"])"
      ],
      "metadata": {
        "colab": {
          "base_uri": "https://localhost:8080/"
        },
        "id": "iqPF1ki3zBoV",
        "outputId": "890a5dc9-3e8a-4c3c-8b49-6453512c139b"
      },
      "execution_count": null,
      "outputs": [
        {
          "output_type": "stream",
          "name": "stdout",
          "text": [
            "28\n"
          ]
        }
      ]
    }
  ]
}